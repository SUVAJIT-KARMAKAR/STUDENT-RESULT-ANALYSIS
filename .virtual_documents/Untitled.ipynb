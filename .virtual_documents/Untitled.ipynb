





import numpy as num
import pandas as pands
import matplotlib.pyplot as plot 
import seaborn as seab





dataframe = pands.read_csv("Dataset/STUDENTSCORES.csv")





dataframe.head()





dataframe.describe()





dataframe.info()





dataframe.isnull().sum()





dataframe = dataframe.drop("Unnamed: 0", axis=1)
dataframe.head()



