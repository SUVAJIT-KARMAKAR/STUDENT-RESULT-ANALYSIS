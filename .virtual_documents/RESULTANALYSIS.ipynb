





import numpy as num
import pandas as pands
import matplotlib.pyplot as plot 
import seaborn as seab





dataframe = pands.read_csv("Dataset/STUDENTSCORES.csv")





dataframe.head()





dataframe.describe()





dataframe.info()





dataframe.isnull().sum()





dataframe = dataframe.drop("Unnamed: 0", axis=1)


dataframe.head()





dataframe["WklyStudyHours"] = dataframe["WklyStudyHours"].str.replace("05-Oct", "5-10")


dataframe.head()





seab.boxplot(data=dataframe, x="MathScore")
plot.title("OUTLIER DETECTION FOR MATHSCORE")
plot.show()





seab.boxplot(data=dataframe, x="ReadingScore")
plot.title("OUTLIER DETECTION FOR READINGSCORE")
plot.show()





seab.boxplot(data=dataframe, x="WritingScore")
plot.title("OUTLIER DETECTION FOR WRITINGSCORE")





gender_chart = seab.countplot(data=dataframe, x="Gender")
gender_chart.bar_label(chart.containers[0])
plot.title("GENDER DISTRIBUTION")
plot.show()








group_by_parent_education = dataframe.groupby("ParentEduc").agg({
    "MathScore" : 'mean',
    "ReadingScore" : 'mean',
    "WritingScore" : 'mean'
})

print(group_by_parent_education)


seab.heatmap(group_by_parent_education, annot=True)
plot.title("INFLUENCE OF PARENTS EDUCATION ON SCORES")
plot.show()








group_by_parent_maritalstatus = dataframe.groupby("ParentMaritalStatus").agg({
    "MathScore" : 'mean',
    "ReadingScore" : 'mean',
    "WritingScore" : 'mean'
})
print(group_by_parent_maritalstatus)


seab.heatmap(group_by_parent_maritalstatus, annot=True)
plot.title("INFLUENCE OF PARENTS MARITAL STATUS ON SCORE")
plot.show()








print(dataframe["EthnicGroup"].unique())


group_a = dataframe.loc[(dataframe['EthnicGroup'] == "group A")].count()
print(group_a)


group_b = dataframe.loc[(dataframe['EthnicGroup'] == "group B")].count()
print(group_b)


group_c = dataframe.loc[(dataframe["EthnicGroup"] == "group C")].count()
print(group_c)


group_d = dataframe.loc[(dataframe["EthnicGroup"] == "group D")].count()
print(group_d)


group_e = dataframe.loc[(dataframe["EthnicGroup"] == "group E")].count()
print(group_e)


ethnic_group_list = [
    group_a["EthnicGroup"],
    group_b["EthnicGroup"],
    group_c["EthnicGroup"],
    group_d["EthnicGroup"],
    group_e["EthnicGroup"],
]


ethnic_labels = [
    "GROUP A",
    "GROUP B",
    "GROUP C",
    "GROUP D",
    "GROUP E"
]

plot.pie(ethnic_group_list, labels=ethnic_labels, autopct= "%1.2f%%")
plot.title("ETHNIC GROUP DISTRIBUTION")
plot.show()


ethnic_chart = seab.countplot(data=dataframe, x='EthnicGroup')
ethnic_chart.bar_label(ethnic_chart.containers[0])
plot.show()






