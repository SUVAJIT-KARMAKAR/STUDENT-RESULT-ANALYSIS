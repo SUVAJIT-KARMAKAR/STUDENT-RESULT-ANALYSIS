





import numpy as num
import pandas as pands
import matplotlib.pyplot as plot 
import seaborn as seab





dataframe = pands.read_csv("Dataset/STUDENTSCORES.csv")





dataframe.head()





dataframe.describe()





dataframe.info()





dataframe.isnull().sum()





dataframe = dataframe.drop("Unnamed: 0", axis=1)


dataframe.head()





dataframe["WklyStudyHours"] = dataframe["WklyStudyHours"].str.replace("05-Oct", "5-10")


dataframe.head()





seab.boxplot(data=dataframe, x="MathScore")
plot.title("OUTLIER DETECTION FOR MATHSCORE")
plot.show()





seab.boxplot(data=dataframe, x="ReadingScore")
plot.title("OUTLIER DETECTION FOR READINGSCORE")
plot.show()





seab.boxplot(data=dataframe, x="WritingScore")
plot.title("OUTLIER DETECTION FOR WRITINGSCORE")





chart = seab.countplot(data=dataframe, x="Gender")
chart.bar_label(chart.containers[0])
plot.title("GENDER DISTRIBUTION")
plot.show()








group_by_parent_education = dataframe.groupby("ParentEduc").agg({
    "MathScore" : 'mean',
    "ReadingScore" : 'mean',
    "WritingScore" : 'mean'
})

print(group_by_parent_education)


seab.heatmap(group_by_parent_education, annot=True)
plot.title("INFLUENCE OF PARENTS EDUCATION ON SCORES")
plot.show()








group_by_parent_maritalstatus = dataframe.groupby("ParentMaritalStatus").agg({
    "MathScore" : 'mean',
    "ReadingScore" : 'mean',
    "WritingScore" : 'mean'
})
print(group_by_parent_maritalstatus)


seab.heatmap(group_by_parent_maritalstatus, annot=True)
plot.title("INFLUENCE OF PARENTS MARITAL STATUS ON SCORE")
plot.show()






