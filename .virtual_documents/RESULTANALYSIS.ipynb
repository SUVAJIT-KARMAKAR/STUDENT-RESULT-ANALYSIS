





import numpy as num
import pandas as pands
import matplotlib.pyplot as plot 
import seaborn as seab





dataframe = pands.read_csv("Dataset/STUDENTSCORES.csv")





dataframe.head()





dataframe.describe()





dataframe.info()





dataframe.isnull().sum()





dataframe = dataframe.drop("Unnamed: 0", axis=1)


dataframe.head()





dataframe["WklyStudyHours"] = dataframe["WklyStudyHours"].str.replace("05-Oct", "5-10")


dataframe.head()





chart = seab.countplot(data=dataframe, x="Gender")
chart.bar_label(chart.containers[0])
plot.show()








group_by_parent_education = dataframe.groupby("ParentEduc").agg({
    "MathScore" : 'mean',
    "ReadingScore" : 'mean',
    "WritingScore" : 'mean'
})

print(group_by_parent_education)


seab.heatmap(group_by_parent_education, annot=True)
plot.show()








group_by_parent_maritalstatus = dataframe.groupby("ParentMaritalStatus").agg({
    "MathScore" : 'mean',
    "ReadingScore" : 'mean',
    "WritingScore" : 'mean'
})
print(group_by_parent_maritalstatus)


seab.heatmap(group_by_parent_maritalstatus, annot=True)
plot.show()






